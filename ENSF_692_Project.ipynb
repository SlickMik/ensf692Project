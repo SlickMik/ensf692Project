{
  "nbformat": 4,
  "nbformat_minor": 0,
  "metadata": {
    "colab": {
      "provenance": [],
      "include_colab_link": true
    },
    "kernelspec": {
      "name": "python3",
      "display_name": "Python 3"
    },
    "language_info": {
      "name": "python"
    }
  },
  "cells": [
    {
      "cell_type": "markdown",
      "metadata": {
        "id": "view-in-github",
        "colab_type": "text"
      },
      "source": [
        "<a href=\"https://colab.research.google.com/github/SlickMik/ensf692Project/blob/main/ENSF_692_Project.ipynb\" target=\"_parent\"><img src=\"https://colab.research.google.com/assets/colab-badge.svg\" alt=\"Open In Colab\"/></a>"
      ]
    },
    {
      "cell_type": "markdown",
      "source": [
        "# ESNF 692 Project\n",
        "### Group # : 4\n",
        "##### Authors : Danish Shahid () | Muhammad Ibrahim Khan ()\n",
        "---\n",
        "\n",
        "This notebook describes the correlation of asset classes - Oil, Gold, and S%P500 for a user selected time range"
      ],
      "metadata": {
        "id": "8guvxZcpWd6g"
      }
    },
    {
      "cell_type": "markdown",
      "source": [
        "---"
      ],
      "metadata": {
        "id": "lK1L2FF3cbRP"
      }
    },
    {
      "cell_type": "markdown",
      "source": [
        "Importing Libraries"
      ],
      "metadata": {
        "id": "7KJ3PcQvbWab"
      }
    },
    {
      "cell_type": "code",
      "source": [
        "import kagglehub\n",
        "import numpy as np\n",
        "import pandas as pd\n",
        "import matplotlib as mp"
      ],
      "metadata": {
        "id": "vcha6bJmaAl6"
      },
      "execution_count": null,
      "outputs": []
    },
    {
      "cell_type": "markdown",
      "source": [
        "# Dataset Selection"
      ],
      "metadata": {
        "id": "DWTDOg25Vizd"
      }
    },
    {
      "cell_type": "markdown",
      "source": [
        "Downloading Kaggle Datasets"
      ],
      "metadata": {
        "id": "mEC95LkXbaT5"
      }
    },
    {
      "cell_type": "code",
      "source": [
        "# Download latest dataset versions\n",
        "gold_dataset_path = kagglehub.dataset_download(\"ritwikb3/daily-gold-price-1996-2023-time-series\")\n",
        "\n",
        "oil_dataset_path = kagglehub.dataset_download(\"tarique7/daily-crude-price-dataset\")\n",
        "\n",
        "sp_dataset_path = kagglehub.dataset_download(\"paveljurke/s-and-p-500-gspc-historical-data\")"
      ],
      "metadata": {
        "id": "QOSkEAmgbN0a"
      },
      "execution_count": null,
      "outputs": []
    },
    {
      "cell_type": "markdown",
      "source": [
        "# Dataset Creation"
      ],
      "metadata": {
        "id": "NIF2tXXQVpGk"
      }
    },
    {
      "cell_type": "markdown",
      "source": [
        "Reading Dataset to Pandas"
      ],
      "metadata": {
        "id": "OCekeopfbexU"
      }
    },
    {
      "cell_type": "code",
      "source": [
        "# read csv files into pandas\n",
        "gold_dataset = pd.read_csv(gold_dataset_path + f'/deccan gold mines ltd eod price 2.csv')\n",
        "\n",
        "oil_dataset = pd.read_csv(oil_dataset_path + f'/Crude Oil WTI Futures Historical Data.csv')\n",
        "\n",
        "sp_dataset = pd.read_csv(sp_dataset_path + f'/sap500.csv')"
      ],
      "metadata": {
        "id": "vOTl70c-VoHT"
      },
      "execution_count": null,
      "outputs": []
    },
    {
      "cell_type": "markdown",
      "source": [
        "Standardizing Date columns to Timestamps"
      ],
      "metadata": {
        "id": "8pMfWNAskMlV"
      }
    },
    {
      "cell_type": "code",
      "source": [
        "gold_dataset['Date'] = pd.to_datetime(gold_dataset['Date'])\n",
        "oil_dataset['Date'] = pd.to_datetime(oil_dataset['Date'])\n",
        "sp_dataset['Date'] = pd.to_datetime(sp_dataset['Date'])"
      ],
      "metadata": {
        "id": "_qCo1AP6jCey"
      },
      "execution_count": null,
      "outputs": []
    },
    {
      "cell_type": "markdown",
      "source": [
        "Set indices to Column 'Date'"
      ],
      "metadata": {
        "id": "AKJE1PQdlo6O"
      }
    },
    {
      "cell_type": "code",
      "source": [
        "gold_dataset = gold_dataset.set_index('Date')\n",
        "oil_dataset = oil_dataset.set_index('Date')\n",
        "sp_dataset = sp_dataset.set_index('Date')"
      ],
      "metadata": {
        "id": "CHJTyKTrlSrX"
      },
      "execution_count": null,
      "outputs": []
    },
    {
      "cell_type": "markdown",
      "source": [],
      "metadata": {
        "id": "qnBB2-Tko3RP"
      }
    },
    {
      "cell_type": "markdown",
      "source": [],
      "metadata": {
        "id": "1Uv8b62ao3Jb"
      }
    },
    {
      "cell_type": "markdown",
      "source": [
        "Brain storming"
      ],
      "metadata": {
        "id": "a8Cgef2Co3AF"
      }
    },
    {
      "cell_type": "code",
      "source": [
        "assets_df = gold_dataset.join(oil_dataset, how='outer', lsuffix='_Gold', rsuffix='_WTI').join(sp_dataset, how='outer', rsuffix='_SP')"
      ],
      "metadata": {
        "id": "qOxPpbqCc7UT"
      },
      "execution_count": null,
      "outputs": []
    },
    {
      "cell_type": "code",
      "source": [
        "gold_dataset.loc['1996':'1998']"
      ],
      "metadata": {
        "colab": {
          "base_uri": "https://localhost:8080/",
          "height": 282
        },
        "id": "iYJNuqdEncvO",
        "outputId": "000d1967-8681-4ecc-aacc-f38f27df72e5"
      },
      "execution_count": null,
      "outputs": [
        {
          "output_type": "error",
          "ename": "KeyError",
          "evalue": "'Value based partial slicing on non-monotonic DatetimeIndexes with non-existing keys is not allowed.'",
          "traceback": [
            "\u001b[0;31m---------------------------------------------------------------------------\u001b[0m",
            "\u001b[0;31mKeyError\u001b[0m                                  Traceback (most recent call last)",
            "\u001b[0;32m<ipython-input-98-3973a3dd97fa>\u001b[0m in \u001b[0;36m<cell line: 0>\u001b[0;34m()\u001b[0m\n\u001b[0;32m----> 1\u001b[0;31m \u001b[0mgold_dataset\u001b[0m\u001b[0;34m.\u001b[0m\u001b[0mloc\u001b[0m\u001b[0;34m[\u001b[0m\u001b[0;34m'1996'\u001b[0m\u001b[0;34m:\u001b[0m\u001b[0;34m'1998'\u001b[0m\u001b[0;34m]\u001b[0m\u001b[0;34m\u001b[0m\u001b[0;34m\u001b[0m\u001b[0m\n\u001b[0m",
            "\u001b[0;32m/usr/local/lib/python3.11/dist-packages/pandas/core/indexing.py\u001b[0m in \u001b[0;36m__getitem__\u001b[0;34m(self, key)\u001b[0m\n\u001b[1;32m   1189\u001b[0m             \u001b[0mmaybe_callable\u001b[0m \u001b[0;34m=\u001b[0m \u001b[0mcom\u001b[0m\u001b[0;34m.\u001b[0m\u001b[0mapply_if_callable\u001b[0m\u001b[0;34m(\u001b[0m\u001b[0mkey\u001b[0m\u001b[0;34m,\u001b[0m \u001b[0mself\u001b[0m\u001b[0;34m.\u001b[0m\u001b[0mobj\u001b[0m\u001b[0;34m)\u001b[0m\u001b[0;34m\u001b[0m\u001b[0;34m\u001b[0m\u001b[0m\n\u001b[1;32m   1190\u001b[0m             \u001b[0mmaybe_callable\u001b[0m \u001b[0;34m=\u001b[0m \u001b[0mself\u001b[0m\u001b[0;34m.\u001b[0m\u001b[0m_check_deprecated_callable_usage\u001b[0m\u001b[0;34m(\u001b[0m\u001b[0mkey\u001b[0m\u001b[0;34m,\u001b[0m \u001b[0mmaybe_callable\u001b[0m\u001b[0;34m)\u001b[0m\u001b[0;34m\u001b[0m\u001b[0;34m\u001b[0m\u001b[0m\n\u001b[0;32m-> 1191\u001b[0;31m             \u001b[0;32mreturn\u001b[0m \u001b[0mself\u001b[0m\u001b[0;34m.\u001b[0m\u001b[0m_getitem_axis\u001b[0m\u001b[0;34m(\u001b[0m\u001b[0mmaybe_callable\u001b[0m\u001b[0;34m,\u001b[0m \u001b[0maxis\u001b[0m\u001b[0;34m=\u001b[0m\u001b[0maxis\u001b[0m\u001b[0;34m)\u001b[0m\u001b[0;34m\u001b[0m\u001b[0;34m\u001b[0m\u001b[0m\n\u001b[0m\u001b[1;32m   1192\u001b[0m \u001b[0;34m\u001b[0m\u001b[0m\n\u001b[1;32m   1193\u001b[0m     \u001b[0;32mdef\u001b[0m \u001b[0m_is_scalar_access\u001b[0m\u001b[0;34m(\u001b[0m\u001b[0mself\u001b[0m\u001b[0;34m,\u001b[0m \u001b[0mkey\u001b[0m\u001b[0;34m:\u001b[0m \u001b[0mtuple\u001b[0m\u001b[0;34m)\u001b[0m\u001b[0;34m:\u001b[0m\u001b[0;34m\u001b[0m\u001b[0;34m\u001b[0m\u001b[0m\n",
            "\u001b[0;32m/usr/local/lib/python3.11/dist-packages/pandas/core/indexing.py\u001b[0m in \u001b[0;36m_getitem_axis\u001b[0;34m(self, key, axis)\u001b[0m\n\u001b[1;32m   1409\u001b[0m         \u001b[0;32mif\u001b[0m \u001b[0misinstance\u001b[0m\u001b[0;34m(\u001b[0m\u001b[0mkey\u001b[0m\u001b[0;34m,\u001b[0m \u001b[0mslice\u001b[0m\u001b[0;34m)\u001b[0m\u001b[0;34m:\u001b[0m\u001b[0;34m\u001b[0m\u001b[0;34m\u001b[0m\u001b[0m\n\u001b[1;32m   1410\u001b[0m             \u001b[0mself\u001b[0m\u001b[0;34m.\u001b[0m\u001b[0m_validate_key\u001b[0m\u001b[0;34m(\u001b[0m\u001b[0mkey\u001b[0m\u001b[0;34m,\u001b[0m \u001b[0maxis\u001b[0m\u001b[0;34m)\u001b[0m\u001b[0;34m\u001b[0m\u001b[0;34m\u001b[0m\u001b[0m\n\u001b[0;32m-> 1411\u001b[0;31m             \u001b[0;32mreturn\u001b[0m \u001b[0mself\u001b[0m\u001b[0;34m.\u001b[0m\u001b[0m_get_slice_axis\u001b[0m\u001b[0;34m(\u001b[0m\u001b[0mkey\u001b[0m\u001b[0;34m,\u001b[0m \u001b[0maxis\u001b[0m\u001b[0;34m=\u001b[0m\u001b[0maxis\u001b[0m\u001b[0;34m)\u001b[0m\u001b[0;34m\u001b[0m\u001b[0;34m\u001b[0m\u001b[0m\n\u001b[0m\u001b[1;32m   1412\u001b[0m         \u001b[0;32melif\u001b[0m \u001b[0mcom\u001b[0m\u001b[0;34m.\u001b[0m\u001b[0mis_bool_indexer\u001b[0m\u001b[0;34m(\u001b[0m\u001b[0mkey\u001b[0m\u001b[0;34m)\u001b[0m\u001b[0;34m:\u001b[0m\u001b[0;34m\u001b[0m\u001b[0;34m\u001b[0m\u001b[0m\n\u001b[1;32m   1413\u001b[0m             \u001b[0;32mreturn\u001b[0m \u001b[0mself\u001b[0m\u001b[0;34m.\u001b[0m\u001b[0m_getbool_axis\u001b[0m\u001b[0;34m(\u001b[0m\u001b[0mkey\u001b[0m\u001b[0;34m,\u001b[0m \u001b[0maxis\u001b[0m\u001b[0;34m=\u001b[0m\u001b[0maxis\u001b[0m\u001b[0;34m)\u001b[0m\u001b[0;34m\u001b[0m\u001b[0;34m\u001b[0m\u001b[0m\n",
            "\u001b[0;32m/usr/local/lib/python3.11/dist-packages/pandas/core/indexing.py\u001b[0m in \u001b[0;36m_get_slice_axis\u001b[0;34m(self, slice_obj, axis)\u001b[0m\n\u001b[1;32m   1441\u001b[0m \u001b[0;34m\u001b[0m\u001b[0m\n\u001b[1;32m   1442\u001b[0m         \u001b[0mlabels\u001b[0m \u001b[0;34m=\u001b[0m \u001b[0mobj\u001b[0m\u001b[0;34m.\u001b[0m\u001b[0m_get_axis\u001b[0m\u001b[0;34m(\u001b[0m\u001b[0maxis\u001b[0m\u001b[0;34m)\u001b[0m\u001b[0;34m\u001b[0m\u001b[0;34m\u001b[0m\u001b[0m\n\u001b[0;32m-> 1443\u001b[0;31m         \u001b[0mindexer\u001b[0m \u001b[0;34m=\u001b[0m \u001b[0mlabels\u001b[0m\u001b[0;34m.\u001b[0m\u001b[0mslice_indexer\u001b[0m\u001b[0;34m(\u001b[0m\u001b[0mslice_obj\u001b[0m\u001b[0;34m.\u001b[0m\u001b[0mstart\u001b[0m\u001b[0;34m,\u001b[0m \u001b[0mslice_obj\u001b[0m\u001b[0;34m.\u001b[0m\u001b[0mstop\u001b[0m\u001b[0;34m,\u001b[0m \u001b[0mslice_obj\u001b[0m\u001b[0;34m.\u001b[0m\u001b[0mstep\u001b[0m\u001b[0;34m)\u001b[0m\u001b[0;34m\u001b[0m\u001b[0;34m\u001b[0m\u001b[0m\n\u001b[0m\u001b[1;32m   1444\u001b[0m \u001b[0;34m\u001b[0m\u001b[0m\n\u001b[1;32m   1445\u001b[0m         \u001b[0;32mif\u001b[0m \u001b[0misinstance\u001b[0m\u001b[0;34m(\u001b[0m\u001b[0mindexer\u001b[0m\u001b[0;34m,\u001b[0m \u001b[0mslice\u001b[0m\u001b[0;34m)\u001b[0m\u001b[0;34m:\u001b[0m\u001b[0;34m\u001b[0m\u001b[0;34m\u001b[0m\u001b[0m\n",
            "\u001b[0;32m/usr/local/lib/python3.11/dist-packages/pandas/core/indexes/datetimes.py\u001b[0m in \u001b[0;36mslice_indexer\u001b[0;34m(self, start, end, step)\u001b[0m\n\u001b[1;32m    695\u001b[0m \u001b[0;34m\u001b[0m\u001b[0m\n\u001b[1;32m    696\u001b[0m         \u001b[0;32mif\u001b[0m \u001b[0;32mnot\u001b[0m \u001b[0min_index\u001b[0m\u001b[0;34m:\u001b[0m\u001b[0;34m\u001b[0m\u001b[0;34m\u001b[0m\u001b[0m\n\u001b[0;32m--> 697\u001b[0;31m             raise KeyError(\n\u001b[0m\u001b[1;32m    698\u001b[0m                 \u001b[0;34m\"Value based partial slicing on non-monotonic DatetimeIndexes \"\u001b[0m\u001b[0;34m\u001b[0m\u001b[0;34m\u001b[0m\u001b[0m\n\u001b[1;32m    699\u001b[0m                 \u001b[0;34m\"with non-existing keys is not allowed.\"\u001b[0m\u001b[0;34m,\u001b[0m\u001b[0;34m\u001b[0m\u001b[0;34m\u001b[0m\u001b[0m\n",
            "\u001b[0;31mKeyError\u001b[0m: 'Value based partial slicing on non-monotonic DatetimeIndexes with non-existing keys is not allowed.'"
          ]
        }
      ]
    },
    {
      "cell_type": "code",
      "source": [
        "assets_df['1996-12-30':'1997-12-30'].head(10)"
      ],
      "metadata": {
        "colab": {
          "base_uri": "https://localhost:8080/",
          "height": 677
        },
        "id": "2n9GGNKDiVPl",
        "outputId": "7d5d34a8-e609-445a-85e6-e0e71290ab4c"
      },
      "execution_count": null,
      "outputs": [
        {
          "output_type": "execute_result",
          "data": {
            "text/plain": [
              "            Open_Gold  High_Gold  Low_Gold  Close  WAP  No. of Shares  \\\n",
              "Date                                                                    \n",
              "1996-12-30        NaN        NaN       NaN    NaN  NaN            NaN   \n",
              "1996-12-31        NaN        NaN       NaN    NaN  NaN            NaN   \n",
              "1997-01-02        NaN        NaN       NaN    NaN  NaN            NaN   \n",
              "1997-01-03        NaN        NaN       NaN    NaN  NaN            NaN   \n",
              "1997-01-06        NaN        NaN       NaN    NaN  NaN            NaN   \n",
              "1997-01-07        NaN        NaN       NaN    NaN  NaN            NaN   \n",
              "1997-01-08        NaN        NaN       NaN    NaN  NaN            NaN   \n",
              "1997-01-09        NaN        NaN       NaN    NaN  NaN            NaN   \n",
              "1997-01-10        NaN        NaN       NaN    NaN  NaN            NaN   \n",
              "1997-01-13        NaN        NaN       NaN    NaN  NaN            NaN   \n",
              "\n",
              "            No. of Trades  Total Turnover  Deliverable Quantity  \\\n",
              "Date                                                              \n",
              "1996-12-30            NaN             NaN                   NaN   \n",
              "1996-12-31            NaN             NaN                   NaN   \n",
              "1997-01-02            NaN             NaN                   NaN   \n",
              "1997-01-03            NaN             NaN                   NaN   \n",
              "1997-01-06            NaN             NaN                   NaN   \n",
              "1997-01-07            NaN             NaN                   NaN   \n",
              "1997-01-08            NaN             NaN                   NaN   \n",
              "1997-01-09            NaN             NaN                   NaN   \n",
              "1997-01-10            NaN             NaN                   NaN   \n",
              "1997-01-13            NaN             NaN                   NaN   \n",
              "\n",
              "            % Deli. Qty to Traded Qty  ...  Open_WTI  High_WTI  Low_WTI  \\\n",
              "Date                                   ...                                \n",
              "1996-12-30                        NaN  ...     25.17     25.55    25.12   \n",
              "1996-12-31                        NaN  ...     25.29     25.97    25.22   \n",
              "1997-01-02                        NaN  ...     25.88     26.05    25.60   \n",
              "1997-01-03                        NaN  ...     25.72     25.78    25.35   \n",
              "1997-01-06                        NaN  ...     25.70     26.47    25.63   \n",
              "1997-01-07                        NaN  ...     26.27     26.45    26.07   \n",
              "1997-01-08                        NaN  ...     26.20     26.65    25.85   \n",
              "1997-01-09                        NaN  ...     26.60     26.74    26.25   \n",
              "1997-01-10                        NaN  ...     26.32     26.41    26.00   \n",
              "1997-01-13                        NaN  ...     26.20     26.50    25.16   \n",
              "\n",
              "              Vol.  Change %        Open        High         Low    Close_SP  \\\n",
              "Date                                                                           \n",
              "1996-12-30  22.35K     0.59%  756.789978  759.200012  752.729980  753.849976   \n",
              "1996-12-31  21.48K     2.17%  753.849976  753.950012  740.739990  740.739990   \n",
              "1997-01-02  29.31K    -0.89%  740.739990  742.809998  729.549988  737.010010   \n",
              "1997-01-03  25.04K    -0.39%  737.010010  748.239990  737.010010  748.030029   \n",
              "1997-01-06  43.20K     3.05%  748.030029  753.309998  743.820007  747.650024   \n",
              "1997-01-07  36.55K    -0.53%  747.650024  753.260010  742.179993  753.229980   \n",
              "1997-01-08  50.76K     1.49%  753.229980  755.719971  747.710022  748.409973   \n",
              "1997-01-09  43.25K    -0.94%  748.409973  757.679993  748.409973  754.849976   \n",
              "1997-01-10  41.90K    -1.06%  754.849976  759.650024  746.919983  759.500000   \n",
              "1997-01-13  57.97K    -3.45%  759.500000  762.849976  756.690002  759.510010   \n",
              "\n",
              "                 Volume  \n",
              "Date                     \n",
              "1996-12-30  339060000.0  \n",
              "1996-12-31  399760000.0  \n",
              "1997-01-02  463230000.0  \n",
              "1997-01-03  452970000.0  \n",
              "1997-01-06  531350000.0  \n",
              "1997-01-07  538220000.0  \n",
              "1997-01-08  557510000.0  \n",
              "1997-01-09  555370000.0  \n",
              "1997-01-10  545850000.0  \n",
              "1997-01-13  445400000.0  \n",
              "\n",
              "[10 rows x 23 columns]"
            ],
            "text/html": [
              "\n",
              "  <div id=\"df-33850668-fb18-4441-9286-6cb3ef6c7740\" class=\"colab-df-container\">\n",
              "    <div>\n",
              "<style scoped>\n",
              "    .dataframe tbody tr th:only-of-type {\n",
              "        vertical-align: middle;\n",
              "    }\n",
              "\n",
              "    .dataframe tbody tr th {\n",
              "        vertical-align: top;\n",
              "    }\n",
              "\n",
              "    .dataframe thead th {\n",
              "        text-align: right;\n",
              "    }\n",
              "</style>\n",
              "<table border=\"1\" class=\"dataframe\">\n",
              "  <thead>\n",
              "    <tr style=\"text-align: right;\">\n",
              "      <th></th>\n",
              "      <th>Open_Gold</th>\n",
              "      <th>High_Gold</th>\n",
              "      <th>Low_Gold</th>\n",
              "      <th>Close</th>\n",
              "      <th>WAP</th>\n",
              "      <th>No. of Shares</th>\n",
              "      <th>No. of Trades</th>\n",
              "      <th>Total Turnover</th>\n",
              "      <th>Deliverable Quantity</th>\n",
              "      <th>% Deli. Qty to Traded Qty</th>\n",
              "      <th>...</th>\n",
              "      <th>Open_WTI</th>\n",
              "      <th>High_WTI</th>\n",
              "      <th>Low_WTI</th>\n",
              "      <th>Vol.</th>\n",
              "      <th>Change %</th>\n",
              "      <th>Open</th>\n",
              "      <th>High</th>\n",
              "      <th>Low</th>\n",
              "      <th>Close_SP</th>\n",
              "      <th>Volume</th>\n",
              "    </tr>\n",
              "    <tr>\n",
              "      <th>Date</th>\n",
              "      <th></th>\n",
              "      <th></th>\n",
              "      <th></th>\n",
              "      <th></th>\n",
              "      <th></th>\n",
              "      <th></th>\n",
              "      <th></th>\n",
              "      <th></th>\n",
              "      <th></th>\n",
              "      <th></th>\n",
              "      <th></th>\n",
              "      <th></th>\n",
              "      <th></th>\n",
              "      <th></th>\n",
              "      <th></th>\n",
              "      <th></th>\n",
              "      <th></th>\n",
              "      <th></th>\n",
              "      <th></th>\n",
              "      <th></th>\n",
              "      <th></th>\n",
              "    </tr>\n",
              "  </thead>\n",
              "  <tbody>\n",
              "    <tr>\n",
              "      <th>1996-12-30</th>\n",
              "      <td>NaN</td>\n",
              "      <td>NaN</td>\n",
              "      <td>NaN</td>\n",
              "      <td>NaN</td>\n",
              "      <td>NaN</td>\n",
              "      <td>NaN</td>\n",
              "      <td>NaN</td>\n",
              "      <td>NaN</td>\n",
              "      <td>NaN</td>\n",
              "      <td>NaN</td>\n",
              "      <td>...</td>\n",
              "      <td>25.17</td>\n",
              "      <td>25.55</td>\n",
              "      <td>25.12</td>\n",
              "      <td>22.35K</td>\n",
              "      <td>0.59%</td>\n",
              "      <td>756.789978</td>\n",
              "      <td>759.200012</td>\n",
              "      <td>752.729980</td>\n",
              "      <td>753.849976</td>\n",
              "      <td>339060000.0</td>\n",
              "    </tr>\n",
              "    <tr>\n",
              "      <th>1996-12-31</th>\n",
              "      <td>NaN</td>\n",
              "      <td>NaN</td>\n",
              "      <td>NaN</td>\n",
              "      <td>NaN</td>\n",
              "      <td>NaN</td>\n",
              "      <td>NaN</td>\n",
              "      <td>NaN</td>\n",
              "      <td>NaN</td>\n",
              "      <td>NaN</td>\n",
              "      <td>NaN</td>\n",
              "      <td>...</td>\n",
              "      <td>25.29</td>\n",
              "      <td>25.97</td>\n",
              "      <td>25.22</td>\n",
              "      <td>21.48K</td>\n",
              "      <td>2.17%</td>\n",
              "      <td>753.849976</td>\n",
              "      <td>753.950012</td>\n",
              "      <td>740.739990</td>\n",
              "      <td>740.739990</td>\n",
              "      <td>399760000.0</td>\n",
              "    </tr>\n",
              "    <tr>\n",
              "      <th>1997-01-02</th>\n",
              "      <td>NaN</td>\n",
              "      <td>NaN</td>\n",
              "      <td>NaN</td>\n",
              "      <td>NaN</td>\n",
              "      <td>NaN</td>\n",
              "      <td>NaN</td>\n",
              "      <td>NaN</td>\n",
              "      <td>NaN</td>\n",
              "      <td>NaN</td>\n",
              "      <td>NaN</td>\n",
              "      <td>...</td>\n",
              "      <td>25.88</td>\n",
              "      <td>26.05</td>\n",
              "      <td>25.60</td>\n",
              "      <td>29.31K</td>\n",
              "      <td>-0.89%</td>\n",
              "      <td>740.739990</td>\n",
              "      <td>742.809998</td>\n",
              "      <td>729.549988</td>\n",
              "      <td>737.010010</td>\n",
              "      <td>463230000.0</td>\n",
              "    </tr>\n",
              "    <tr>\n",
              "      <th>1997-01-03</th>\n",
              "      <td>NaN</td>\n",
              "      <td>NaN</td>\n",
              "      <td>NaN</td>\n",
              "      <td>NaN</td>\n",
              "      <td>NaN</td>\n",
              "      <td>NaN</td>\n",
              "      <td>NaN</td>\n",
              "      <td>NaN</td>\n",
              "      <td>NaN</td>\n",
              "      <td>NaN</td>\n",
              "      <td>...</td>\n",
              "      <td>25.72</td>\n",
              "      <td>25.78</td>\n",
              "      <td>25.35</td>\n",
              "      <td>25.04K</td>\n",
              "      <td>-0.39%</td>\n",
              "      <td>737.010010</td>\n",
              "      <td>748.239990</td>\n",
              "      <td>737.010010</td>\n",
              "      <td>748.030029</td>\n",
              "      <td>452970000.0</td>\n",
              "    </tr>\n",
              "    <tr>\n",
              "      <th>1997-01-06</th>\n",
              "      <td>NaN</td>\n",
              "      <td>NaN</td>\n",
              "      <td>NaN</td>\n",
              "      <td>NaN</td>\n",
              "      <td>NaN</td>\n",
              "      <td>NaN</td>\n",
              "      <td>NaN</td>\n",
              "      <td>NaN</td>\n",
              "      <td>NaN</td>\n",
              "      <td>NaN</td>\n",
              "      <td>...</td>\n",
              "      <td>25.70</td>\n",
              "      <td>26.47</td>\n",
              "      <td>25.63</td>\n",
              "      <td>43.20K</td>\n",
              "      <td>3.05%</td>\n",
              "      <td>748.030029</td>\n",
              "      <td>753.309998</td>\n",
              "      <td>743.820007</td>\n",
              "      <td>747.650024</td>\n",
              "      <td>531350000.0</td>\n",
              "    </tr>\n",
              "    <tr>\n",
              "      <th>1997-01-07</th>\n",
              "      <td>NaN</td>\n",
              "      <td>NaN</td>\n",
              "      <td>NaN</td>\n",
              "      <td>NaN</td>\n",
              "      <td>NaN</td>\n",
              "      <td>NaN</td>\n",
              "      <td>NaN</td>\n",
              "      <td>NaN</td>\n",
              "      <td>NaN</td>\n",
              "      <td>NaN</td>\n",
              "      <td>...</td>\n",
              "      <td>26.27</td>\n",
              "      <td>26.45</td>\n",
              "      <td>26.07</td>\n",
              "      <td>36.55K</td>\n",
              "      <td>-0.53%</td>\n",
              "      <td>747.650024</td>\n",
              "      <td>753.260010</td>\n",
              "      <td>742.179993</td>\n",
              "      <td>753.229980</td>\n",
              "      <td>538220000.0</td>\n",
              "    </tr>\n",
              "    <tr>\n",
              "      <th>1997-01-08</th>\n",
              "      <td>NaN</td>\n",
              "      <td>NaN</td>\n",
              "      <td>NaN</td>\n",
              "      <td>NaN</td>\n",
              "      <td>NaN</td>\n",
              "      <td>NaN</td>\n",
              "      <td>NaN</td>\n",
              "      <td>NaN</td>\n",
              "      <td>NaN</td>\n",
              "      <td>NaN</td>\n",
              "      <td>...</td>\n",
              "      <td>26.20</td>\n",
              "      <td>26.65</td>\n",
              "      <td>25.85</td>\n",
              "      <td>50.76K</td>\n",
              "      <td>1.49%</td>\n",
              "      <td>753.229980</td>\n",
              "      <td>755.719971</td>\n",
              "      <td>747.710022</td>\n",
              "      <td>748.409973</td>\n",
              "      <td>557510000.0</td>\n",
              "    </tr>\n",
              "    <tr>\n",
              "      <th>1997-01-09</th>\n",
              "      <td>NaN</td>\n",
              "      <td>NaN</td>\n",
              "      <td>NaN</td>\n",
              "      <td>NaN</td>\n",
              "      <td>NaN</td>\n",
              "      <td>NaN</td>\n",
              "      <td>NaN</td>\n",
              "      <td>NaN</td>\n",
              "      <td>NaN</td>\n",
              "      <td>NaN</td>\n",
              "      <td>...</td>\n",
              "      <td>26.60</td>\n",
              "      <td>26.74</td>\n",
              "      <td>26.25</td>\n",
              "      <td>43.25K</td>\n",
              "      <td>-0.94%</td>\n",
              "      <td>748.409973</td>\n",
              "      <td>757.679993</td>\n",
              "      <td>748.409973</td>\n",
              "      <td>754.849976</td>\n",
              "      <td>555370000.0</td>\n",
              "    </tr>\n",
              "    <tr>\n",
              "      <th>1997-01-10</th>\n",
              "      <td>NaN</td>\n",
              "      <td>NaN</td>\n",
              "      <td>NaN</td>\n",
              "      <td>NaN</td>\n",
              "      <td>NaN</td>\n",
              "      <td>NaN</td>\n",
              "      <td>NaN</td>\n",
              "      <td>NaN</td>\n",
              "      <td>NaN</td>\n",
              "      <td>NaN</td>\n",
              "      <td>...</td>\n",
              "      <td>26.32</td>\n",
              "      <td>26.41</td>\n",
              "      <td>26.00</td>\n",
              "      <td>41.90K</td>\n",
              "      <td>-1.06%</td>\n",
              "      <td>754.849976</td>\n",
              "      <td>759.650024</td>\n",
              "      <td>746.919983</td>\n",
              "      <td>759.500000</td>\n",
              "      <td>545850000.0</td>\n",
              "    </tr>\n",
              "    <tr>\n",
              "      <th>1997-01-13</th>\n",
              "      <td>NaN</td>\n",
              "      <td>NaN</td>\n",
              "      <td>NaN</td>\n",
              "      <td>NaN</td>\n",
              "      <td>NaN</td>\n",
              "      <td>NaN</td>\n",
              "      <td>NaN</td>\n",
              "      <td>NaN</td>\n",
              "      <td>NaN</td>\n",
              "      <td>NaN</td>\n",
              "      <td>...</td>\n",
              "      <td>26.20</td>\n",
              "      <td>26.50</td>\n",
              "      <td>25.16</td>\n",
              "      <td>57.97K</td>\n",
              "      <td>-3.45%</td>\n",
              "      <td>759.500000</td>\n",
              "      <td>762.849976</td>\n",
              "      <td>756.690002</td>\n",
              "      <td>759.510010</td>\n",
              "      <td>445400000.0</td>\n",
              "    </tr>\n",
              "  </tbody>\n",
              "</table>\n",
              "<p>10 rows × 23 columns</p>\n",
              "</div>\n",
              "    <div class=\"colab-df-buttons\">\n",
              "\n",
              "  <div class=\"colab-df-container\">\n",
              "    <button class=\"colab-df-convert\" onclick=\"convertToInteractive('df-33850668-fb18-4441-9286-6cb3ef6c7740')\"\n",
              "            title=\"Convert this dataframe to an interactive table.\"\n",
              "            style=\"display:none;\">\n",
              "\n",
              "  <svg xmlns=\"http://www.w3.org/2000/svg\" height=\"24px\" viewBox=\"0 -960 960 960\">\n",
              "    <path d=\"M120-120v-720h720v720H120Zm60-500h600v-160H180v160Zm220 220h160v-160H400v160Zm0 220h160v-160H400v160ZM180-400h160v-160H180v160Zm440 0h160v-160H620v160ZM180-180h160v-160H180v160Zm440 0h160v-160H620v160Z\"/>\n",
              "  </svg>\n",
              "    </button>\n",
              "\n",
              "  <style>\n",
              "    .colab-df-container {\n",
              "      display:flex;\n",
              "      gap: 12px;\n",
              "    }\n",
              "\n",
              "    .colab-df-convert {\n",
              "      background-color: #E8F0FE;\n",
              "      border: none;\n",
              "      border-radius: 50%;\n",
              "      cursor: pointer;\n",
              "      display: none;\n",
              "      fill: #1967D2;\n",
              "      height: 32px;\n",
              "      padding: 0 0 0 0;\n",
              "      width: 32px;\n",
              "    }\n",
              "\n",
              "    .colab-df-convert:hover {\n",
              "      background-color: #E2EBFA;\n",
              "      box-shadow: 0px 1px 2px rgba(60, 64, 67, 0.3), 0px 1px 3px 1px rgba(60, 64, 67, 0.15);\n",
              "      fill: #174EA6;\n",
              "    }\n",
              "\n",
              "    .colab-df-buttons div {\n",
              "      margin-bottom: 4px;\n",
              "    }\n",
              "\n",
              "    [theme=dark] .colab-df-convert {\n",
              "      background-color: #3B4455;\n",
              "      fill: #D2E3FC;\n",
              "    }\n",
              "\n",
              "    [theme=dark] .colab-df-convert:hover {\n",
              "      background-color: #434B5C;\n",
              "      box-shadow: 0px 1px 3px 1px rgba(0, 0, 0, 0.15);\n",
              "      filter: drop-shadow(0px 1px 2px rgba(0, 0, 0, 0.3));\n",
              "      fill: #FFFFFF;\n",
              "    }\n",
              "  </style>\n",
              "\n",
              "    <script>\n",
              "      const buttonEl =\n",
              "        document.querySelector('#df-33850668-fb18-4441-9286-6cb3ef6c7740 button.colab-df-convert');\n",
              "      buttonEl.style.display =\n",
              "        google.colab.kernel.accessAllowed ? 'block' : 'none';\n",
              "\n",
              "      async function convertToInteractive(key) {\n",
              "        const element = document.querySelector('#df-33850668-fb18-4441-9286-6cb3ef6c7740');\n",
              "        const dataTable =\n",
              "          await google.colab.kernel.invokeFunction('convertToInteractive',\n",
              "                                                    [key], {});\n",
              "        if (!dataTable) return;\n",
              "\n",
              "        const docLinkHtml = 'Like what you see? Visit the ' +\n",
              "          '<a target=\"_blank\" href=https://colab.research.google.com/notebooks/data_table.ipynb>data table notebook</a>'\n",
              "          + ' to learn more about interactive tables.';\n",
              "        element.innerHTML = '';\n",
              "        dataTable['output_type'] = 'display_data';\n",
              "        await google.colab.output.renderOutput(dataTable, element);\n",
              "        const docLink = document.createElement('div');\n",
              "        docLink.innerHTML = docLinkHtml;\n",
              "        element.appendChild(docLink);\n",
              "      }\n",
              "    </script>\n",
              "  </div>\n",
              "\n",
              "\n",
              "    <div id=\"df-40d13c6e-fcdb-4301-a46c-316e485607fb\">\n",
              "      <button class=\"colab-df-quickchart\" onclick=\"quickchart('df-40d13c6e-fcdb-4301-a46c-316e485607fb')\"\n",
              "                title=\"Suggest charts\"\n",
              "                style=\"display:none;\">\n",
              "\n",
              "<svg xmlns=\"http://www.w3.org/2000/svg\" height=\"24px\"viewBox=\"0 0 24 24\"\n",
              "     width=\"24px\">\n",
              "    <g>\n",
              "        <path d=\"M19 3H5c-1.1 0-2 .9-2 2v14c0 1.1.9 2 2 2h14c1.1 0 2-.9 2-2V5c0-1.1-.9-2-2-2zM9 17H7v-7h2v7zm4 0h-2V7h2v10zm4 0h-2v-4h2v4z\"/>\n",
              "    </g>\n",
              "</svg>\n",
              "      </button>\n",
              "\n",
              "<style>\n",
              "  .colab-df-quickchart {\n",
              "      --bg-color: #E8F0FE;\n",
              "      --fill-color: #1967D2;\n",
              "      --hover-bg-color: #E2EBFA;\n",
              "      --hover-fill-color: #174EA6;\n",
              "      --disabled-fill-color: #AAA;\n",
              "      --disabled-bg-color: #DDD;\n",
              "  }\n",
              "\n",
              "  [theme=dark] .colab-df-quickchart {\n",
              "      --bg-color: #3B4455;\n",
              "      --fill-color: #D2E3FC;\n",
              "      --hover-bg-color: #434B5C;\n",
              "      --hover-fill-color: #FFFFFF;\n",
              "      --disabled-bg-color: #3B4455;\n",
              "      --disabled-fill-color: #666;\n",
              "  }\n",
              "\n",
              "  .colab-df-quickchart {\n",
              "    background-color: var(--bg-color);\n",
              "    border: none;\n",
              "    border-radius: 50%;\n",
              "    cursor: pointer;\n",
              "    display: none;\n",
              "    fill: var(--fill-color);\n",
              "    height: 32px;\n",
              "    padding: 0;\n",
              "    width: 32px;\n",
              "  }\n",
              "\n",
              "  .colab-df-quickchart:hover {\n",
              "    background-color: var(--hover-bg-color);\n",
              "    box-shadow: 0 1px 2px rgba(60, 64, 67, 0.3), 0 1px 3px 1px rgba(60, 64, 67, 0.15);\n",
              "    fill: var(--button-hover-fill-color);\n",
              "  }\n",
              "\n",
              "  .colab-df-quickchart-complete:disabled,\n",
              "  .colab-df-quickchart-complete:disabled:hover {\n",
              "    background-color: var(--disabled-bg-color);\n",
              "    fill: var(--disabled-fill-color);\n",
              "    box-shadow: none;\n",
              "  }\n",
              "\n",
              "  .colab-df-spinner {\n",
              "    border: 2px solid var(--fill-color);\n",
              "    border-color: transparent;\n",
              "    border-bottom-color: var(--fill-color);\n",
              "    animation:\n",
              "      spin 1s steps(1) infinite;\n",
              "  }\n",
              "\n",
              "  @keyframes spin {\n",
              "    0% {\n",
              "      border-color: transparent;\n",
              "      border-bottom-color: var(--fill-color);\n",
              "      border-left-color: var(--fill-color);\n",
              "    }\n",
              "    20% {\n",
              "      border-color: transparent;\n",
              "      border-left-color: var(--fill-color);\n",
              "      border-top-color: var(--fill-color);\n",
              "    }\n",
              "    30% {\n",
              "      border-color: transparent;\n",
              "      border-left-color: var(--fill-color);\n",
              "      border-top-color: var(--fill-color);\n",
              "      border-right-color: var(--fill-color);\n",
              "    }\n",
              "    40% {\n",
              "      border-color: transparent;\n",
              "      border-right-color: var(--fill-color);\n",
              "      border-top-color: var(--fill-color);\n",
              "    }\n",
              "    60% {\n",
              "      border-color: transparent;\n",
              "      border-right-color: var(--fill-color);\n",
              "    }\n",
              "    80% {\n",
              "      border-color: transparent;\n",
              "      border-right-color: var(--fill-color);\n",
              "      border-bottom-color: var(--fill-color);\n",
              "    }\n",
              "    90% {\n",
              "      border-color: transparent;\n",
              "      border-bottom-color: var(--fill-color);\n",
              "    }\n",
              "  }\n",
              "</style>\n",
              "\n",
              "      <script>\n",
              "        async function quickchart(key) {\n",
              "          const quickchartButtonEl =\n",
              "            document.querySelector('#' + key + ' button');\n",
              "          quickchartButtonEl.disabled = true;  // To prevent multiple clicks.\n",
              "          quickchartButtonEl.classList.add('colab-df-spinner');\n",
              "          try {\n",
              "            const charts = await google.colab.kernel.invokeFunction(\n",
              "                'suggestCharts', [key], {});\n",
              "          } catch (error) {\n",
              "            console.error('Error during call to suggestCharts:', error);\n",
              "          }\n",
              "          quickchartButtonEl.classList.remove('colab-df-spinner');\n",
              "          quickchartButtonEl.classList.add('colab-df-quickchart-complete');\n",
              "        }\n",
              "        (() => {\n",
              "          let quickchartButtonEl =\n",
              "            document.querySelector('#df-40d13c6e-fcdb-4301-a46c-316e485607fb button');\n",
              "          quickchartButtonEl.style.display =\n",
              "            google.colab.kernel.accessAllowed ? 'block' : 'none';\n",
              "        })();\n",
              "      </script>\n",
              "    </div>\n",
              "\n",
              "    </div>\n",
              "  </div>\n"
            ],
            "application/vnd.google.colaboratory.intrinsic+json": {
              "type": "dataframe"
            }
          },
          "metadata": {},
          "execution_count": 82
        }
      ]
    },
    {
      "cell_type": "code",
      "source": [
        "combine_df"
      ],
      "metadata": {
        "colab": {
          "base_uri": "https://localhost:8080/",
          "height": 889
        },
        "id": "YkInQIIAg4ni",
        "outputId": "bc401e93-692a-4aee-a741-b2d2671c71de"
      },
      "execution_count": null,
      "outputs": [
        {
          "output_type": "execute_result",
          "data": {
            "text/plain": [
              "Date_Gold                     4846\n",
              "Open_Gold                     4846\n",
              "High_Gold                     4846\n",
              "Low_Gold                      4846\n",
              "Close                         4846\n",
              "WAP                           4846\n",
              "No. of Shares                 4846\n",
              "No. of Trades                 4846\n",
              "Total Turnover                4846\n",
              "Deliverable Quantity          4702\n",
              "% Deli. Qty to Traded Qty     4702\n",
              "Spread H-L                    4846\n",
              "Spread C-O                    4846\n",
              "Date_WTI                      5000\n",
              "Price                         5000\n",
              "Open_WTI                      5000\n",
              "High_WTI                      5000\n",
              "Low_WTI                       5000\n",
              "Vol.                          4989\n",
              "Change %                      5000\n",
              "Date                         24474\n",
              "Open                         24474\n",
              "High                         24474\n",
              "Low                          24474\n",
              "Close_SP                     24474\n",
              "Volume                       24474\n",
              "dtype: int64"
            ],
            "text/html": [
              "<div>\n",
              "<style scoped>\n",
              "    .dataframe tbody tr th:only-of-type {\n",
              "        vertical-align: middle;\n",
              "    }\n",
              "\n",
              "    .dataframe tbody tr th {\n",
              "        vertical-align: top;\n",
              "    }\n",
              "\n",
              "    .dataframe thead th {\n",
              "        text-align: right;\n",
              "    }\n",
              "</style>\n",
              "<table border=\"1\" class=\"dataframe\">\n",
              "  <thead>\n",
              "    <tr style=\"text-align: right;\">\n",
              "      <th></th>\n",
              "      <th>0</th>\n",
              "    </tr>\n",
              "  </thead>\n",
              "  <tbody>\n",
              "    <tr>\n",
              "      <th>Date_Gold</th>\n",
              "      <td>4846</td>\n",
              "    </tr>\n",
              "    <tr>\n",
              "      <th>Open_Gold</th>\n",
              "      <td>4846</td>\n",
              "    </tr>\n",
              "    <tr>\n",
              "      <th>High_Gold</th>\n",
              "      <td>4846</td>\n",
              "    </tr>\n",
              "    <tr>\n",
              "      <th>Low_Gold</th>\n",
              "      <td>4846</td>\n",
              "    </tr>\n",
              "    <tr>\n",
              "      <th>Close</th>\n",
              "      <td>4846</td>\n",
              "    </tr>\n",
              "    <tr>\n",
              "      <th>WAP</th>\n",
              "      <td>4846</td>\n",
              "    </tr>\n",
              "    <tr>\n",
              "      <th>No. of Shares</th>\n",
              "      <td>4846</td>\n",
              "    </tr>\n",
              "    <tr>\n",
              "      <th>No. of Trades</th>\n",
              "      <td>4846</td>\n",
              "    </tr>\n",
              "    <tr>\n",
              "      <th>Total Turnover</th>\n",
              "      <td>4846</td>\n",
              "    </tr>\n",
              "    <tr>\n",
              "      <th>Deliverable Quantity</th>\n",
              "      <td>4702</td>\n",
              "    </tr>\n",
              "    <tr>\n",
              "      <th>% Deli. Qty to Traded Qty</th>\n",
              "      <td>4702</td>\n",
              "    </tr>\n",
              "    <tr>\n",
              "      <th>Spread H-L</th>\n",
              "      <td>4846</td>\n",
              "    </tr>\n",
              "    <tr>\n",
              "      <th>Spread C-O</th>\n",
              "      <td>4846</td>\n",
              "    </tr>\n",
              "    <tr>\n",
              "      <th>Date_WTI</th>\n",
              "      <td>5000</td>\n",
              "    </tr>\n",
              "    <tr>\n",
              "      <th>Price</th>\n",
              "      <td>5000</td>\n",
              "    </tr>\n",
              "    <tr>\n",
              "      <th>Open_WTI</th>\n",
              "      <td>5000</td>\n",
              "    </tr>\n",
              "    <tr>\n",
              "      <th>High_WTI</th>\n",
              "      <td>5000</td>\n",
              "    </tr>\n",
              "    <tr>\n",
              "      <th>Low_WTI</th>\n",
              "      <td>5000</td>\n",
              "    </tr>\n",
              "    <tr>\n",
              "      <th>Vol.</th>\n",
              "      <td>4989</td>\n",
              "    </tr>\n",
              "    <tr>\n",
              "      <th>Change %</th>\n",
              "      <td>5000</td>\n",
              "    </tr>\n",
              "    <tr>\n",
              "      <th>Date</th>\n",
              "      <td>24474</td>\n",
              "    </tr>\n",
              "    <tr>\n",
              "      <th>Open</th>\n",
              "      <td>24474</td>\n",
              "    </tr>\n",
              "    <tr>\n",
              "      <th>High</th>\n",
              "      <td>24474</td>\n",
              "    </tr>\n",
              "    <tr>\n",
              "      <th>Low</th>\n",
              "      <td>24474</td>\n",
              "    </tr>\n",
              "    <tr>\n",
              "      <th>Close_SP</th>\n",
              "      <td>24474</td>\n",
              "    </tr>\n",
              "    <tr>\n",
              "      <th>Volume</th>\n",
              "      <td>24474</td>\n",
              "    </tr>\n",
              "  </tbody>\n",
              "</table>\n",
              "</div><br><label><b>dtype:</b> int64</label>"
            ]
          },
          "metadata": {},
          "execution_count": 45
        }
      ]
    },
    {
      "cell_type": "markdown",
      "source": [],
      "metadata": {
        "id": "GLe1YHdUo8TX"
      }
    },
    {
      "cell_type": "markdown",
      "source": [],
      "metadata": {
        "id": "dGWWK6KJo8Or"
      }
    },
    {
      "cell_type": "markdown",
      "source": [],
      "metadata": {
        "id": "Zm4Q-n23o8ME"
      }
    },
    {
      "cell_type": "markdown",
      "source": [],
      "metadata": {
        "id": "b8oPl-NIo8I9"
      }
    },
    {
      "cell_type": "markdown",
      "source": [
        "# User Entry"
      ],
      "metadata": {
        "id": "OZpwH01GVw2W"
      }
    },
    {
      "cell_type": "code",
      "source": [
        "ra = input('please enter your input')"
      ],
      "metadata": {
        "id": "6nC9I63eV-qx",
        "colab": {
          "base_uri": "https://localhost:8080/"
        },
        "outputId": "f1a434c7-2260-42f8-a7f7-f076a3d8e72d"
      },
      "execution_count": null,
      "outputs": [
        {
          "name": "stdout",
          "output_type": "stream",
          "text": [
            "please enter your inputhello\n"
          ]
        }
      ]
    },
    {
      "cell_type": "markdown",
      "source": [
        "# Analysis & Calculations"
      ],
      "metadata": {
        "id": "EHDQ5GniV0Ea"
      }
    },
    {
      "cell_type": "code",
      "source": [
        "# Analysis and Calculations"
      ],
      "metadata": {
        "id": "D1VLlec6WA-L"
      },
      "execution_count": null,
      "outputs": []
    },
    {
      "cell_type": "markdown",
      "source": [
        "# Export & Matplotlib"
      ],
      "metadata": {
        "id": "CeFwZBEpV5-y"
      }
    },
    {
      "cell_type": "code",
      "source": [],
      "metadata": {
        "id": "L1Fc5Kj6VEVZ"
      },
      "execution_count": null,
      "outputs": []
    }
  ]
}