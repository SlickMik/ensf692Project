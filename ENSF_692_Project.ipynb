{
  "nbformat": 4,
  "nbformat_minor": 0,
  "metadata": {
    "colab": {
      "provenance": [],
      "include_colab_link": true
    },
    "kernelspec": {
      "name": "python3",
      "display_name": "Python 3"
    },
    "language_info": {
      "name": "python"
    }
  },
  "cells": [
    {
      "cell_type": "markdown",
      "metadata": {
        "id": "view-in-github",
        "colab_type": "text"
      },
      "source": [
        "<a href=\"https://colab.research.google.com/github/SlickMik/ensf692Project/blob/main/ENSF_692_Project.ipynb\" target=\"_parent\"><img src=\"https://colab.research.google.com/assets/colab-badge.svg\" alt=\"Open In Colab\"/></a>"
      ]
    },
    {
      "cell_type": "markdown",
      "source": [
        "# ESNF 692 Project\n",
        "### Group # : 4\n",
        "##### Authors : Danish Shahid () | Muhammad Ibrahim Khan ()\n",
        "---\n",
        "\n",
        "This notebook describes the correlation of asset classes - Oil, Gold, and S&P500 for a user selected time range"
      ],
      "metadata": {
        "id": "8guvxZcpWd6g"
      }
    },
    {
      "cell_type": "markdown",
      "source": [
        "---"
      ],
      "metadata": {
        "id": "lK1L2FF3cbRP"
      }
    },
    {
      "cell_type": "markdown",
      "source": [
        "Importing Libraries"
      ],
      "metadata": {
        "id": "7KJ3PcQvbWab"
      }
    },
    {
      "cell_type": "code",
      "source": [
        "import kagglehub\n",
        "import numpy as np\n",
        "import pandas as pd\n",
        "import matplotlib as mp"
      ],
      "metadata": {
        "id": "vcha6bJmaAl6"
      },
      "execution_count": 1,
      "outputs": []
    },
    {
      "cell_type": "markdown",
      "source": [
        "# Dataset Selection"
      ],
      "metadata": {
        "id": "DWTDOg25Vizd"
      }
    },
    {
      "cell_type": "markdown",
      "source": [
        "Downloading Kaggle Datasets"
      ],
      "metadata": {
        "id": "mEC95LkXbaT5"
      }
    },
    {
      "cell_type": "code",
      "source": [
        "# Download latest dataset versions\n",
        "gold_dataset_path = kagglehub.dataset_download(\"faisaljanjua0555/daily-gold-price-historical-dataset\")\n",
        "\n",
        "oil_dataset_path = kagglehub.dataset_download(\"tarique7/daily-crude-price-dataset\")\n",
        "\n",
        "sp_dataset_path = kagglehub.dataset_download(\"paveljurke/s-and-p-500-gspc-historical-data\")"
      ],
      "metadata": {
        "id": "QOSkEAmgbN0a"
      },
      "execution_count": 34,
      "outputs": []
    },
    {
      "cell_type": "markdown",
      "source": [
        "# Dataset Creation"
      ],
      "metadata": {
        "id": "NIF2tXXQVpGk"
      }
    },
    {
      "cell_type": "markdown",
      "source": [
        "Reading Dataset to Pandas <br/>\n",
        "Setting index to Date<br/>\n",
        "Parsing Date"
      ],
      "metadata": {
        "id": "OCekeopfbexU"
      }
    },
    {
      "cell_type": "code",
      "source": [
        "# read csv files into pandas\n",
        "gold_dataset = pd.read_csv(gold_dataset_path + f'/gold.csv', index_col='Date', parse_dates=True)\n",
        "\n",
        "oil_dataset = pd.read_csv(oil_dataset_path + f'/Crude Oil WTI Futures Historical Data.csv', index_col='Date', parse_dates=True)\n",
        "\n",
        "sp_dataset = pd.read_csv(sp_dataset_path + f'/sap500.csv', index_col='Date', parse_dates=True)"
      ],
      "metadata": {
        "id": "vOTl70c-VoHT"
      },
      "execution_count": 43,
      "outputs": []
    },
    {
      "cell_type": "markdown",
      "source": [],
      "metadata": {
        "id": "qnBB2-Tko3RP"
      }
    },
    {
      "cell_type": "markdown",
      "source": [],
      "metadata": {
        "id": "1Uv8b62ao3Jb"
      }
    },
    {
      "cell_type": "markdown",
      "source": [
        "Brain storming"
      ],
      "metadata": {
        "id": "a8Cgef2Co3AF"
      }
    },
    {
      "cell_type": "code",
      "source": [
        "assets_df = gold_dataset.join(oil_dataset, how='outer', lsuffix='_Gold', rsuffix='_WTI').join(sp_dataset, how='outer', rsuffix='_SP')"
      ],
      "metadata": {
        "id": "qOxPpbqCc7UT"
      },
      "execution_count": 44,
      "outputs": []
    },
    {
      "cell_type": "code",
      "source": [
        "assets_df.loc['2000']"
      ],
      "metadata": {
        "id": "AgvDC6aBaNFa",
        "outputId": "2f49bdaa-5e4e-48b0-b1cc-1355f77ee5b4",
        "colab": {
          "base_uri": "https://localhost:8080/",
          "height": 657
        }
      },
      "execution_count": 45,
      "outputs": [
        {
          "output_type": "execute_result",
          "data": {
            "text/plain": [
              "            Open_Gold  High_Gold  Low_Gold  Close   Volume Currency  Price  \\\n",
              "Date                                                                         \n",
              "2000-01-03        NaN        NaN       NaN    NaN      NaN      NaN    NaN   \n",
              "2000-01-04      289.5      289.5     280.0  283.7  21621.0      USD  25.55   \n",
              "2000-01-05      283.7      285.0     281.0  282.1  25448.0      USD  24.91   \n",
              "2000-01-06      281.6      282.8     280.2  282.4  19055.0      USD  24.78   \n",
              "2000-01-07      282.5      284.5     282.0  282.9  11266.0      USD  24.22   \n",
              "...               ...        ...       ...    ...      ...      ...    ...   \n",
              "2000-12-22      275.8      276.4     275.0  275.5   4874.0      USD  26.18   \n",
              "2000-12-26      275.7      276.5     275.6  275.9  15525.0      USD  26.64   \n",
              "2000-12-27      275.5      277.5     275.5  276.9  23759.0      USD  26.47   \n",
              "2000-12-28      277.0      277.2     272.6  273.7  10413.0      USD  25.85   \n",
              "2000-12-29      273.3      274.4     272.3  273.6  41621.0      USD  26.80   \n",
              "\n",
              "            Open_WTI  High_WTI  Low_WTI    Vol. Change %         Open  \\\n",
              "Date                                                                    \n",
              "2000-01-03       NaN       NaN      NaN     NaN      NaN  1469.250000   \n",
              "2000-01-04     25.20     25.69    24.71  74.79K   -0.20%  1455.219971   \n",
              "2000-01-05     25.50     25.61    24.87  70.94K   -2.50%  1399.420044   \n",
              "2000-01-06     24.80     25.34    24.51  85.25K   -0.52%  1402.109985   \n",
              "2000-01-07     24.65     25.00    24.15  91.83K   -2.26%  1403.449951   \n",
              "...              ...       ...      ...     ...      ...          ...   \n",
              "2000-12-22     26.05     27.25    25.95  41.15K    0.77%  1274.859985   \n",
              "2000-12-26     26.20     26.88    26.20  24.45K    1.76%  1305.969971   \n",
              "2000-12-27     26.60     27.00    26.41  34.00K   -0.64%  1315.189941   \n",
              "2000-12-28     26.48     26.58    25.77  34.44K   -2.34%  1328.920044   \n",
              "2000-12-29     25.77     26.95    25.62  35.53K    3.68%  1334.219971   \n",
              "\n",
              "                   High          Low     Close_SP     Volume_SP  \n",
              "Date                                                             \n",
              "2000-01-03  1478.000000  1438.359985  1455.219971  9.318000e+08  \n",
              "2000-01-04  1455.219971  1397.430054  1399.420044  1.009000e+09  \n",
              "2000-01-05  1413.270020  1377.680054  1402.109985  1.085500e+09  \n",
              "2000-01-06  1411.900024  1392.099976  1403.449951  1.092300e+09  \n",
              "2000-01-07  1441.469971  1400.729980  1441.469971  1.225200e+09  \n",
              "...                 ...          ...          ...           ...  \n",
              "2000-12-22  1305.969971  1274.859985  1305.949951  1.087100e+09  \n",
              "2000-12-26  1315.939941  1301.640015  1315.189941  8.065000e+08  \n",
              "2000-12-27  1332.030029  1310.959961  1328.920044  1.092700e+09  \n",
              "2000-12-28  1335.930054  1325.780029  1334.219971  1.015300e+09  \n",
              "2000-12-29  1340.099976  1317.510010  1320.280029  1.035500e+09  \n",
              "\n",
              "[252 rows x 17 columns]"
            ],
            "text/html": [
              "\n",
              "  <div id=\"df-d1f9ca27-d5d6-47b9-bd59-dec12d2b653a\" class=\"colab-df-container\">\n",
              "    <div>\n",
              "<style scoped>\n",
              "    .dataframe tbody tr th:only-of-type {\n",
              "        vertical-align: middle;\n",
              "    }\n",
              "\n",
              "    .dataframe tbody tr th {\n",
              "        vertical-align: top;\n",
              "    }\n",
              "\n",
              "    .dataframe thead th {\n",
              "        text-align: right;\n",
              "    }\n",
              "</style>\n",
              "<table border=\"1\" class=\"dataframe\">\n",
              "  <thead>\n",
              "    <tr style=\"text-align: right;\">\n",
              "      <th></th>\n",
              "      <th>Open_Gold</th>\n",
              "      <th>High_Gold</th>\n",
              "      <th>Low_Gold</th>\n",
              "      <th>Close</th>\n",
              "      <th>Volume</th>\n",
              "      <th>Currency</th>\n",
              "      <th>Price</th>\n",
              "      <th>Open_WTI</th>\n",
              "      <th>High_WTI</th>\n",
              "      <th>Low_WTI</th>\n",
              "      <th>Vol.</th>\n",
              "      <th>Change %</th>\n",
              "      <th>Open</th>\n",
              "      <th>High</th>\n",
              "      <th>Low</th>\n",
              "      <th>Close_SP</th>\n",
              "      <th>Volume_SP</th>\n",
              "    </tr>\n",
              "    <tr>\n",
              "      <th>Date</th>\n",
              "      <th></th>\n",
              "      <th></th>\n",
              "      <th></th>\n",
              "      <th></th>\n",
              "      <th></th>\n",
              "      <th></th>\n",
              "      <th></th>\n",
              "      <th></th>\n",
              "      <th></th>\n",
              "      <th></th>\n",
              "      <th></th>\n",
              "      <th></th>\n",
              "      <th></th>\n",
              "      <th></th>\n",
              "      <th></th>\n",
              "      <th></th>\n",
              "      <th></th>\n",
              "    </tr>\n",
              "  </thead>\n",
              "  <tbody>\n",
              "    <tr>\n",
              "      <th>2000-01-03</th>\n",
              "      <td>NaN</td>\n",
              "      <td>NaN</td>\n",
              "      <td>NaN</td>\n",
              "      <td>NaN</td>\n",
              "      <td>NaN</td>\n",
              "      <td>NaN</td>\n",
              "      <td>NaN</td>\n",
              "      <td>NaN</td>\n",
              "      <td>NaN</td>\n",
              "      <td>NaN</td>\n",
              "      <td>NaN</td>\n",
              "      <td>NaN</td>\n",
              "      <td>1469.250000</td>\n",
              "      <td>1478.000000</td>\n",
              "      <td>1438.359985</td>\n",
              "      <td>1455.219971</td>\n",
              "      <td>9.318000e+08</td>\n",
              "    </tr>\n",
              "    <tr>\n",
              "      <th>2000-01-04</th>\n",
              "      <td>289.5</td>\n",
              "      <td>289.5</td>\n",
              "      <td>280.0</td>\n",
              "      <td>283.7</td>\n",
              "      <td>21621.0</td>\n",
              "      <td>USD</td>\n",
              "      <td>25.55</td>\n",
              "      <td>25.20</td>\n",
              "      <td>25.69</td>\n",
              "      <td>24.71</td>\n",
              "      <td>74.79K</td>\n",
              "      <td>-0.20%</td>\n",
              "      <td>1455.219971</td>\n",
              "      <td>1455.219971</td>\n",
              "      <td>1397.430054</td>\n",
              "      <td>1399.420044</td>\n",
              "      <td>1.009000e+09</td>\n",
              "    </tr>\n",
              "    <tr>\n",
              "      <th>2000-01-05</th>\n",
              "      <td>283.7</td>\n",
              "      <td>285.0</td>\n",
              "      <td>281.0</td>\n",
              "      <td>282.1</td>\n",
              "      <td>25448.0</td>\n",
              "      <td>USD</td>\n",
              "      <td>24.91</td>\n",
              "      <td>25.50</td>\n",
              "      <td>25.61</td>\n",
              "      <td>24.87</td>\n",
              "      <td>70.94K</td>\n",
              "      <td>-2.50%</td>\n",
              "      <td>1399.420044</td>\n",
              "      <td>1413.270020</td>\n",
              "      <td>1377.680054</td>\n",
              "      <td>1402.109985</td>\n",
              "      <td>1.085500e+09</td>\n",
              "    </tr>\n",
              "    <tr>\n",
              "      <th>2000-01-06</th>\n",
              "      <td>281.6</td>\n",
              "      <td>282.8</td>\n",
              "      <td>280.2</td>\n",
              "      <td>282.4</td>\n",
              "      <td>19055.0</td>\n",
              "      <td>USD</td>\n",
              "      <td>24.78</td>\n",
              "      <td>24.80</td>\n",
              "      <td>25.34</td>\n",
              "      <td>24.51</td>\n",
              "      <td>85.25K</td>\n",
              "      <td>-0.52%</td>\n",
              "      <td>1402.109985</td>\n",
              "      <td>1411.900024</td>\n",
              "      <td>1392.099976</td>\n",
              "      <td>1403.449951</td>\n",
              "      <td>1.092300e+09</td>\n",
              "    </tr>\n",
              "    <tr>\n",
              "      <th>2000-01-07</th>\n",
              "      <td>282.5</td>\n",
              "      <td>284.5</td>\n",
              "      <td>282.0</td>\n",
              "      <td>282.9</td>\n",
              "      <td>11266.0</td>\n",
              "      <td>USD</td>\n",
              "      <td>24.22</td>\n",
              "      <td>24.65</td>\n",
              "      <td>25.00</td>\n",
              "      <td>24.15</td>\n",
              "      <td>91.83K</td>\n",
              "      <td>-2.26%</td>\n",
              "      <td>1403.449951</td>\n",
              "      <td>1441.469971</td>\n",
              "      <td>1400.729980</td>\n",
              "      <td>1441.469971</td>\n",
              "      <td>1.225200e+09</td>\n",
              "    </tr>\n",
              "    <tr>\n",
              "      <th>...</th>\n",
              "      <td>...</td>\n",
              "      <td>...</td>\n",
              "      <td>...</td>\n",
              "      <td>...</td>\n",
              "      <td>...</td>\n",
              "      <td>...</td>\n",
              "      <td>...</td>\n",
              "      <td>...</td>\n",
              "      <td>...</td>\n",
              "      <td>...</td>\n",
              "      <td>...</td>\n",
              "      <td>...</td>\n",
              "      <td>...</td>\n",
              "      <td>...</td>\n",
              "      <td>...</td>\n",
              "      <td>...</td>\n",
              "      <td>...</td>\n",
              "    </tr>\n",
              "    <tr>\n",
              "      <th>2000-12-22</th>\n",
              "      <td>275.8</td>\n",
              "      <td>276.4</td>\n",
              "      <td>275.0</td>\n",
              "      <td>275.5</td>\n",
              "      <td>4874.0</td>\n",
              "      <td>USD</td>\n",
              "      <td>26.18</td>\n",
              "      <td>26.05</td>\n",
              "      <td>27.25</td>\n",
              "      <td>25.95</td>\n",
              "      <td>41.15K</td>\n",
              "      <td>0.77%</td>\n",
              "      <td>1274.859985</td>\n",
              "      <td>1305.969971</td>\n",
              "      <td>1274.859985</td>\n",
              "      <td>1305.949951</td>\n",
              "      <td>1.087100e+09</td>\n",
              "    </tr>\n",
              "    <tr>\n",
              "      <th>2000-12-26</th>\n",
              "      <td>275.7</td>\n",
              "      <td>276.5</td>\n",
              "      <td>275.6</td>\n",
              "      <td>275.9</td>\n",
              "      <td>15525.0</td>\n",
              "      <td>USD</td>\n",
              "      <td>26.64</td>\n",
              "      <td>26.20</td>\n",
              "      <td>26.88</td>\n",
              "      <td>26.20</td>\n",
              "      <td>24.45K</td>\n",
              "      <td>1.76%</td>\n",
              "      <td>1305.969971</td>\n",
              "      <td>1315.939941</td>\n",
              "      <td>1301.640015</td>\n",
              "      <td>1315.189941</td>\n",
              "      <td>8.065000e+08</td>\n",
              "    </tr>\n",
              "    <tr>\n",
              "      <th>2000-12-27</th>\n",
              "      <td>275.5</td>\n",
              "      <td>277.5</td>\n",
              "      <td>275.5</td>\n",
              "      <td>276.9</td>\n",
              "      <td>23759.0</td>\n",
              "      <td>USD</td>\n",
              "      <td>26.47</td>\n",
              "      <td>26.60</td>\n",
              "      <td>27.00</td>\n",
              "      <td>26.41</td>\n",
              "      <td>34.00K</td>\n",
              "      <td>-0.64%</td>\n",
              "      <td>1315.189941</td>\n",
              "      <td>1332.030029</td>\n",
              "      <td>1310.959961</td>\n",
              "      <td>1328.920044</td>\n",
              "      <td>1.092700e+09</td>\n",
              "    </tr>\n",
              "    <tr>\n",
              "      <th>2000-12-28</th>\n",
              "      <td>277.0</td>\n",
              "      <td>277.2</td>\n",
              "      <td>272.6</td>\n",
              "      <td>273.7</td>\n",
              "      <td>10413.0</td>\n",
              "      <td>USD</td>\n",
              "      <td>25.85</td>\n",
              "      <td>26.48</td>\n",
              "      <td>26.58</td>\n",
              "      <td>25.77</td>\n",
              "      <td>34.44K</td>\n",
              "      <td>-2.34%</td>\n",
              "      <td>1328.920044</td>\n",
              "      <td>1335.930054</td>\n",
              "      <td>1325.780029</td>\n",
              "      <td>1334.219971</td>\n",
              "      <td>1.015300e+09</td>\n",
              "    </tr>\n",
              "    <tr>\n",
              "      <th>2000-12-29</th>\n",
              "      <td>273.3</td>\n",
              "      <td>274.4</td>\n",
              "      <td>272.3</td>\n",
              "      <td>273.6</td>\n",
              "      <td>41621.0</td>\n",
              "      <td>USD</td>\n",
              "      <td>26.80</td>\n",
              "      <td>25.77</td>\n",
              "      <td>26.95</td>\n",
              "      <td>25.62</td>\n",
              "      <td>35.53K</td>\n",
              "      <td>3.68%</td>\n",
              "      <td>1334.219971</td>\n",
              "      <td>1340.099976</td>\n",
              "      <td>1317.510010</td>\n",
              "      <td>1320.280029</td>\n",
              "      <td>1.035500e+09</td>\n",
              "    </tr>\n",
              "  </tbody>\n",
              "</table>\n",
              "<p>252 rows × 17 columns</p>\n",
              "</div>\n",
              "    <div class=\"colab-df-buttons\">\n",
              "\n",
              "  <div class=\"colab-df-container\">\n",
              "    <button class=\"colab-df-convert\" onclick=\"convertToInteractive('df-d1f9ca27-d5d6-47b9-bd59-dec12d2b653a')\"\n",
              "            title=\"Convert this dataframe to an interactive table.\"\n",
              "            style=\"display:none;\">\n",
              "\n",
              "  <svg xmlns=\"http://www.w3.org/2000/svg\" height=\"24px\" viewBox=\"0 -960 960 960\">\n",
              "    <path d=\"M120-120v-720h720v720H120Zm60-500h600v-160H180v160Zm220 220h160v-160H400v160Zm0 220h160v-160H400v160ZM180-400h160v-160H180v160Zm440 0h160v-160H620v160ZM180-180h160v-160H180v160Zm440 0h160v-160H620v160Z\"/>\n",
              "  </svg>\n",
              "    </button>\n",
              "\n",
              "  <style>\n",
              "    .colab-df-container {\n",
              "      display:flex;\n",
              "      gap: 12px;\n",
              "    }\n",
              "\n",
              "    .colab-df-convert {\n",
              "      background-color: #E8F0FE;\n",
              "      border: none;\n",
              "      border-radius: 50%;\n",
              "      cursor: pointer;\n",
              "      display: none;\n",
              "      fill: #1967D2;\n",
              "      height: 32px;\n",
              "      padding: 0 0 0 0;\n",
              "      width: 32px;\n",
              "    }\n",
              "\n",
              "    .colab-df-convert:hover {\n",
              "      background-color: #E2EBFA;\n",
              "      box-shadow: 0px 1px 2px rgba(60, 64, 67, 0.3), 0px 1px 3px 1px rgba(60, 64, 67, 0.15);\n",
              "      fill: #174EA6;\n",
              "    }\n",
              "\n",
              "    .colab-df-buttons div {\n",
              "      margin-bottom: 4px;\n",
              "    }\n",
              "\n",
              "    [theme=dark] .colab-df-convert {\n",
              "      background-color: #3B4455;\n",
              "      fill: #D2E3FC;\n",
              "    }\n",
              "\n",
              "    [theme=dark] .colab-df-convert:hover {\n",
              "      background-color: #434B5C;\n",
              "      box-shadow: 0px 1px 3px 1px rgba(0, 0, 0, 0.15);\n",
              "      filter: drop-shadow(0px 1px 2px rgba(0, 0, 0, 0.3));\n",
              "      fill: #FFFFFF;\n",
              "    }\n",
              "  </style>\n",
              "\n",
              "    <script>\n",
              "      const buttonEl =\n",
              "        document.querySelector('#df-d1f9ca27-d5d6-47b9-bd59-dec12d2b653a button.colab-df-convert');\n",
              "      buttonEl.style.display =\n",
              "        google.colab.kernel.accessAllowed ? 'block' : 'none';\n",
              "\n",
              "      async function convertToInteractive(key) {\n",
              "        const element = document.querySelector('#df-d1f9ca27-d5d6-47b9-bd59-dec12d2b653a');\n",
              "        const dataTable =\n",
              "          await google.colab.kernel.invokeFunction('convertToInteractive',\n",
              "                                                    [key], {});\n",
              "        if (!dataTable) return;\n",
              "\n",
              "        const docLinkHtml = 'Like what you see? Visit the ' +\n",
              "          '<a target=\"_blank\" href=https://colab.research.google.com/notebooks/data_table.ipynb>data table notebook</a>'\n",
              "          + ' to learn more about interactive tables.';\n",
              "        element.innerHTML = '';\n",
              "        dataTable['output_type'] = 'display_data';\n",
              "        await google.colab.output.renderOutput(dataTable, element);\n",
              "        const docLink = document.createElement('div');\n",
              "        docLink.innerHTML = docLinkHtml;\n",
              "        element.appendChild(docLink);\n",
              "      }\n",
              "    </script>\n",
              "  </div>\n",
              "\n",
              "\n",
              "    <div id=\"df-45d89e41-96ae-4bca-804b-a8a22517ca7f\">\n",
              "      <button class=\"colab-df-quickchart\" onclick=\"quickchart('df-45d89e41-96ae-4bca-804b-a8a22517ca7f')\"\n",
              "                title=\"Suggest charts\"\n",
              "                style=\"display:none;\">\n",
              "\n",
              "<svg xmlns=\"http://www.w3.org/2000/svg\" height=\"24px\"viewBox=\"0 0 24 24\"\n",
              "     width=\"24px\">\n",
              "    <g>\n",
              "        <path d=\"M19 3H5c-1.1 0-2 .9-2 2v14c0 1.1.9 2 2 2h14c1.1 0 2-.9 2-2V5c0-1.1-.9-2-2-2zM9 17H7v-7h2v7zm4 0h-2V7h2v10zm4 0h-2v-4h2v4z\"/>\n",
              "    </g>\n",
              "</svg>\n",
              "      </button>\n",
              "\n",
              "<style>\n",
              "  .colab-df-quickchart {\n",
              "      --bg-color: #E8F0FE;\n",
              "      --fill-color: #1967D2;\n",
              "      --hover-bg-color: #E2EBFA;\n",
              "      --hover-fill-color: #174EA6;\n",
              "      --disabled-fill-color: #AAA;\n",
              "      --disabled-bg-color: #DDD;\n",
              "  }\n",
              "\n",
              "  [theme=dark] .colab-df-quickchart {\n",
              "      --bg-color: #3B4455;\n",
              "      --fill-color: #D2E3FC;\n",
              "      --hover-bg-color: #434B5C;\n",
              "      --hover-fill-color: #FFFFFF;\n",
              "      --disabled-bg-color: #3B4455;\n",
              "      --disabled-fill-color: #666;\n",
              "  }\n",
              "\n",
              "  .colab-df-quickchart {\n",
              "    background-color: var(--bg-color);\n",
              "    border: none;\n",
              "    border-radius: 50%;\n",
              "    cursor: pointer;\n",
              "    display: none;\n",
              "    fill: var(--fill-color);\n",
              "    height: 32px;\n",
              "    padding: 0;\n",
              "    width: 32px;\n",
              "  }\n",
              "\n",
              "  .colab-df-quickchart:hover {\n",
              "    background-color: var(--hover-bg-color);\n",
              "    box-shadow: 0 1px 2px rgba(60, 64, 67, 0.3), 0 1px 3px 1px rgba(60, 64, 67, 0.15);\n",
              "    fill: var(--button-hover-fill-color);\n",
              "  }\n",
              "\n",
              "  .colab-df-quickchart-complete:disabled,\n",
              "  .colab-df-quickchart-complete:disabled:hover {\n",
              "    background-color: var(--disabled-bg-color);\n",
              "    fill: var(--disabled-fill-color);\n",
              "    box-shadow: none;\n",
              "  }\n",
              "\n",
              "  .colab-df-spinner {\n",
              "    border: 2px solid var(--fill-color);\n",
              "    border-color: transparent;\n",
              "    border-bottom-color: var(--fill-color);\n",
              "    animation:\n",
              "      spin 1s steps(1) infinite;\n",
              "  }\n",
              "\n",
              "  @keyframes spin {\n",
              "    0% {\n",
              "      border-color: transparent;\n",
              "      border-bottom-color: var(--fill-color);\n",
              "      border-left-color: var(--fill-color);\n",
              "    }\n",
              "    20% {\n",
              "      border-color: transparent;\n",
              "      border-left-color: var(--fill-color);\n",
              "      border-top-color: var(--fill-color);\n",
              "    }\n",
              "    30% {\n",
              "      border-color: transparent;\n",
              "      border-left-color: var(--fill-color);\n",
              "      border-top-color: var(--fill-color);\n",
              "      border-right-color: var(--fill-color);\n",
              "    }\n",
              "    40% {\n",
              "      border-color: transparent;\n",
              "      border-right-color: var(--fill-color);\n",
              "      border-top-color: var(--fill-color);\n",
              "    }\n",
              "    60% {\n",
              "      border-color: transparent;\n",
              "      border-right-color: var(--fill-color);\n",
              "    }\n",
              "    80% {\n",
              "      border-color: transparent;\n",
              "      border-right-color: var(--fill-color);\n",
              "      border-bottom-color: var(--fill-color);\n",
              "    }\n",
              "    90% {\n",
              "      border-color: transparent;\n",
              "      border-bottom-color: var(--fill-color);\n",
              "    }\n",
              "  }\n",
              "</style>\n",
              "\n",
              "      <script>\n",
              "        async function quickchart(key) {\n",
              "          const quickchartButtonEl =\n",
              "            document.querySelector('#' + key + ' button');\n",
              "          quickchartButtonEl.disabled = true;  // To prevent multiple clicks.\n",
              "          quickchartButtonEl.classList.add('colab-df-spinner');\n",
              "          try {\n",
              "            const charts = await google.colab.kernel.invokeFunction(\n",
              "                'suggestCharts', [key], {});\n",
              "          } catch (error) {\n",
              "            console.error('Error during call to suggestCharts:', error);\n",
              "          }\n",
              "          quickchartButtonEl.classList.remove('colab-df-spinner');\n",
              "          quickchartButtonEl.classList.add('colab-df-quickchart-complete');\n",
              "        }\n",
              "        (() => {\n",
              "          let quickchartButtonEl =\n",
              "            document.querySelector('#df-45d89e41-96ae-4bca-804b-a8a22517ca7f button');\n",
              "          quickchartButtonEl.style.display =\n",
              "            google.colab.kernel.accessAllowed ? 'block' : 'none';\n",
              "        })();\n",
              "      </script>\n",
              "    </div>\n",
              "\n",
              "    </div>\n",
              "  </div>\n"
            ],
            "application/vnd.google.colaboratory.intrinsic+json": {
              "type": "dataframe",
              "summary": "{\n  \"name\": \"assets_df\",\n  \"rows\": 252,\n  \"fields\": [\n    {\n      \"column\": \"Date\",\n      \"properties\": {\n        \"dtype\": \"date\",\n        \"min\": \"2000-01-03 00:00:00\",\n        \"max\": \"2000-12-29 00:00:00\",\n        \"num_unique_values\": 252,\n        \"samples\": [\n          \"2000-08-28 00:00:00\",\n          \"2000-01-11 00:00:00\",\n          \"2000-06-12 00:00:00\"\n        ],\n        \"semantic_type\": \"\",\n        \"description\": \"\"\n      }\n    },\n    {\n      \"column\": \"Open_Gold\",\n      \"properties\": {\n        \"dtype\": \"number\",\n        \"std\": 9.602362048554365,\n        \"min\": 265.3,\n        \"max\": 318.3,\n        \"num_unique_values\": 157,\n        \"samples\": [\n          273.9,\n          290.4,\n          273.4\n        ],\n        \"semantic_type\": \"\",\n        \"description\": \"\"\n      }\n    },\n    {\n      \"column\": \"High_Gold\",\n      \"properties\": {\n        \"dtype\": \"number\",\n        \"std\": 10.415190422664146,\n        \"min\": 266.2,\n        \"max\": 326.9,\n        \"num_unique_values\": 173,\n        \"samples\": [\n          272.9,\n          294.0,\n          294.5\n        ],\n        \"semantic_type\": \"\",\n        \"description\": \"\"\n      }\n    },\n    {\n      \"column\": \"Low_Gold\",\n      \"properties\": {\n        \"dtype\": \"number\",\n        \"std\": 8.82842805868089,\n        \"min\": 263.5,\n        \"max\": 311.0,\n        \"num_unique_values\": 163,\n        \"samples\": [\n          271.4,\n          281.6,\n          271.6\n        ],\n        \"semantic_type\": \"\",\n        \"description\": \"\"\n      }\n    },\n    {\n      \"column\": \"Close\",\n      \"properties\": {\n        \"dtype\": \"number\",\n        \"std\": 9.592689355905165,\n        \"min\": 265.3,\n        \"max\": 318.7,\n        \"num_unique_values\": 168,\n        \"samples\": [\n          278.8,\n          303.8,\n          277.9\n        ],\n        \"semantic_type\": \"\",\n        \"description\": \"\"\n      }\n    },\n    {\n      \"column\": \"Volume\",\n      \"properties\": {\n        \"dtype\": \"number\",\n        \"std\": 22067.081414060285,\n        \"min\": 0.0,\n        \"max\": 305053.0,\n        \"num_unique_values\": 245,\n        \"samples\": [\n          43956.0,\n          17841.0,\n          11106.0\n        ],\n        \"semantic_type\": \"\",\n        \"description\": \"\"\n      }\n    },\n    {\n      \"column\": \"Currency\",\n      \"properties\": {\n        \"dtype\": \"category\",\n        \"num_unique_values\": 1,\n        \"samples\": [\n          \"USD\"\n        ],\n        \"semantic_type\": \"\",\n        \"description\": \"\"\n      }\n    },\n    {\n      \"column\": \"Price\",\n      \"properties\": {\n        \"dtype\": \"number\",\n        \"std\": 2.9129427504977095,\n        \"min\": 23.85,\n        \"max\": 37.2,\n        \"num_unique_values\": 224,\n        \"samples\": [\n          28.85\n        ],\n        \"semantic_type\": \"\",\n        \"description\": \"\"\n      }\n    },\n    {\n      \"column\": \"Open_WTI\",\n      \"properties\": {\n        \"dtype\": \"number\",\n        \"std\": 2.9090696261037423,\n        \"min\": 23.89,\n        \"max\": 36.75,\n        \"num_unique_values\": 221,\n        \"samples\": [\n          28.75\n        ],\n        \"semantic_type\": \"\",\n        \"description\": \"\"\n      }\n    },\n    {\n      \"column\": \"High_WTI\",\n      \"properties\": {\n        \"dtype\": \"number\",\n        \"std\": 2.9557310120374867,\n        \"min\": 24.38,\n        \"max\": 37.8,\n        \"num_unique_values\": 198,\n        \"samples\": [\n          25.96\n        ],\n        \"semantic_type\": \"\",\n        \"description\": \"\"\n      }\n    },\n    {\n      \"column\": \"Low_WTI\",\n      \"properties\": {\n        \"dtype\": \"number\",\n        \"std\": 2.8295300332783166,\n        \"min\": 23.7,\n        \"max\": 36.31,\n        \"num_unique_values\": 206,\n        \"samples\": [\n          27.8\n        ],\n        \"semantic_type\": \"\",\n        \"description\": \"\"\n      }\n    },\n    {\n      \"column\": \"Vol.\",\n      \"properties\": {\n        \"dtype\": \"string\",\n        \"num_unique_values\": 245,\n        \"samples\": [\n          \"66.13K\"\n        ],\n        \"semantic_type\": \"\",\n        \"description\": \"\"\n      }\n    },\n    {\n      \"column\": \"Change %\",\n      \"properties\": {\n        \"dtype\": \"string\",\n        \"num_unique_values\": 226,\n        \"samples\": [\n          \"2.96%\"\n        ],\n        \"semantic_type\": \"\",\n        \"description\": \"\"\n      }\n    },\n    {\n      \"column\": \"Open\",\n      \"properties\": {\n        \"dtype\": \"number\",\n        \"std\": 55.60375905227639,\n        \"min\": 1264.739990234375,\n        \"max\": 1527.4599609375,\n        \"num_unique_values\": 251,\n        \"samples\": [\n          1471.8399658203125\n        ],\n        \"semantic_type\": \"\",\n        \"description\": \"\"\n      }\n    },\n    {\n      \"column\": \"High\",\n      \"properties\": {\n        \"dtype\": \"number\",\n        \"std\": 53.66510716744464,\n        \"min\": 1285.31005859375,\n        \"max\": 1552.8699951171875,\n        \"num_unique_values\": 250,\n        \"samples\": [\n          1474.469970703125\n        ],\n        \"semantic_type\": \"\",\n        \"description\": \"\"\n      }\n    },\n    {\n      \"column\": \"Low\",\n      \"properties\": {\n        \"dtype\": \"number\",\n        \"std\": 57.74427050962011,\n        \"min\": 1254.0699462890625,\n        \"max\": 1518.4599609375,\n        \"num_unique_values\": 251,\n        \"samples\": [\n          1482.739990234375\n        ],\n        \"semantic_type\": \"\",\n        \"description\": \"\"\n      }\n    },\n    {\n      \"column\": \"Close_SP\",\n      \"properties\": {\n        \"dtype\": \"number\",\n        \"std\": 55.953509480867915,\n        \"min\": 1264.739990234375,\n        \"max\": 1527.4599609375,\n        \"num_unique_values\": 250,\n        \"samples\": [\n          1452.4200439453125\n        ],\n        \"semantic_type\": \"\",\n        \"description\": \"\"\n      }\n    },\n    {\n      \"column\": \"Volume_SP\",\n      \"properties\": {\n        \"dtype\": \"number\",\n        \"std\": 170583231.30723858,\n        \"min\": 402100000.0,\n        \"max\": 1561100000.0,\n        \"num_unique_values\": 246,\n        \"samples\": [\n          1042300000.0\n        ],\n        \"semantic_type\": \"\",\n        \"description\": \"\"\n      }\n    }\n  ]\n}"
            }
          },
          "metadata": {},
          "execution_count": 45
        }
      ]
    },
    {
      "cell_type": "markdown",
      "source": [],
      "metadata": {
        "id": "GLe1YHdUo8TX"
      }
    },
    {
      "cell_type": "markdown",
      "source": [],
      "metadata": {
        "id": "dGWWK6KJo8Or"
      }
    },
    {
      "cell_type": "markdown",
      "source": [],
      "metadata": {
        "id": "Zm4Q-n23o8ME"
      }
    },
    {
      "cell_type": "markdown",
      "source": [],
      "metadata": {
        "id": "b8oPl-NIo8I9"
      }
    },
    {
      "cell_type": "markdown",
      "source": [
        "# User Entry"
      ],
      "metadata": {
        "id": "OZpwH01GVw2W"
      }
    },
    {
      "cell_type": "code",
      "source": [
        "ra = input('please enter your input')"
      ],
      "metadata": {
        "id": "6nC9I63eV-qx",
        "colab": {
          "base_uri": "https://localhost:8080/"
        },
        "outputId": "f1a434c7-2260-42f8-a7f7-f076a3d8e72d"
      },
      "execution_count": null,
      "outputs": [
        {
          "name": "stdout",
          "output_type": "stream",
          "text": [
            "please enter your inputhello\n"
          ]
        }
      ]
    },
    {
      "cell_type": "markdown",
      "source": [
        "# Analysis & Calculations"
      ],
      "metadata": {
        "id": "EHDQ5GniV0Ea"
      }
    },
    {
      "cell_type": "code",
      "source": [
        "# Analysis and Calculations"
      ],
      "metadata": {
        "id": "D1VLlec6WA-L"
      },
      "execution_count": null,
      "outputs": []
    },
    {
      "cell_type": "markdown",
      "source": [
        "# Export & Matplotlib"
      ],
      "metadata": {
        "id": "CeFwZBEpV5-y"
      }
    },
    {
      "cell_type": "code",
      "source": [],
      "metadata": {
        "id": "L1Fc5Kj6VEVZ"
      },
      "execution_count": null,
      "outputs": []
    }
  ]
}